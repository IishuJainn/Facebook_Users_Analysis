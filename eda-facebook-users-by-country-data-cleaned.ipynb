{
 "cells": [
  {
   "cell_type": "code",
   "execution_count": 1,
   "id": "0075182a",
   "metadata": {
    "_cell_guid": "b1076dfc-b9ad-4769-8c92-a6c4dae69d19",
    "_uuid": "8f2839f25d086af736a60e9eeb907d3b93b6e0e5",
    "execution": {
     "iopub.execute_input": "2023-04-06T10:59:00.912453Z",
     "iopub.status.busy": "2023-04-06T10:59:00.912022Z",
     "iopub.status.idle": "2023-04-06T10:59:00.932823Z",
     "shell.execute_reply": "2023-04-06T10:59:00.931521Z"
    },
    "papermill": {
     "duration": 0.032158,
     "end_time": "2023-04-06T10:59:00.935501",
     "exception": false,
     "start_time": "2023-04-06T10:59:00.903343",
     "status": "completed"
    },
    "tags": []
   },
   "outputs": [
    {
     "name": "stdout",
     "output_type": "stream",
     "text": [
      "/kaggle/input/facebook-users-by-country-data-cleaned/data.csv\n"
     ]
    }
   ],
   "source": [
    "# This Python 3 environment comes with many helpful analytics libraries installed\n",
    "# It is defined by the kaggle/python Docker image: https://github.com/kaggle/docker-python\n",
    "# For example, here's several helpful packages to load\n",
    "\n",
    "import numpy as np # linear algebra\n",
    "import pandas as pd # data processing, CSV file I/O (e.g. pd.read_csv)\n",
    "\n",
    "# Input data files are available in the read-only \"../input/\" directory\n",
    "# For example, running this (by clicking run or pressing Shift+Enter) will list all files under the input directory\n",
    "\n",
    "import os\n",
    "for dirname, _, filenames in os.walk('/kaggle/input'):\n",
    "    for filename in filenames:\n",
    "        print(os.path.join(dirname, filename))\n",
    "\n",
    "# You can write up to 20GB to the current directory (/kaggle/working/) that gets preserved as output when you create a version using \"Save & Run All\" \n",
    "# You can also write temporary files to /kaggle/temp/, but they won't be saved outside of the current session"
   ]
  },
  {
   "cell_type": "code",
   "execution_count": 2,
   "id": "0eb7f8a8",
   "metadata": {
    "execution": {
     "iopub.execute_input": "2023-04-06T10:59:00.949334Z",
     "iopub.status.busy": "2023-04-06T10:59:00.948925Z",
     "iopub.status.idle": "2023-04-06T10:59:00.964498Z",
     "shell.execute_reply": "2023-04-06T10:59:00.963188Z"
    },
    "papermill": {
     "duration": 0.025772,
     "end_time": "2023-04-06T10:59:00.967344",
     "exception": false,
     "start_time": "2023-04-06T10:59:00.941572",
     "status": "completed"
    },
    "tags": []
   },
   "outputs": [],
   "source": [
    "import pandas as pd\n",
    "df=pd.read_csv(\"/kaggle/input/facebook-users-by-country-data-cleaned/data.csv\")"
   ]
  },
  {
   "cell_type": "code",
   "execution_count": 3,
   "id": "6200584e",
   "metadata": {
    "execution": {
     "iopub.execute_input": "2023-04-06T10:59:00.980743Z",
     "iopub.status.busy": "2023-04-06T10:59:00.980360Z",
     "iopub.status.idle": "2023-04-06T10:59:01.007937Z",
     "shell.execute_reply": "2023-04-06T10:59:01.006630Z"
    },
    "papermill": {
     "duration": 0.037253,
     "end_time": "2023-04-06T10:59:01.010382",
     "exception": false,
     "start_time": "2023-04-06T10:59:00.973129",
     "status": "completed"
    },
    "tags": []
   },
   "outputs": [
    {
     "data": {
      "text/html": [
       "<div>\n",
       "<style scoped>\n",
       "    .dataframe tbody tr th:only-of-type {\n",
       "        vertical-align: middle;\n",
       "    }\n",
       "\n",
       "    .dataframe tbody tr th {\n",
       "        vertical-align: top;\n",
       "    }\n",
       "\n",
       "    .dataframe thead th {\n",
       "        text-align: right;\n",
       "    }\n",
       "</style>\n",
       "<table border=\"1\" class=\"dataframe\">\n",
       "  <thead>\n",
       "    <tr style=\"text-align: right;\">\n",
       "      <th></th>\n",
       "      <th>Name</th>\n",
       "      <th>Users</th>\n",
       "      <th>Facebook_Users%</th>\n",
       "      <th>Date_of_Data</th>\n",
       "      <th>Population</th>\n",
       "    </tr>\n",
       "  </thead>\n",
       "  <tbody>\n",
       "    <tr>\n",
       "      <th>0</th>\n",
       "      <td>India</td>\n",
       "      <td>416.6M</td>\n",
       "      <td>29.16%</td>\n",
       "      <td>2021-06</td>\n",
       "      <td>1,428,627,663</td>\n",
       "    </tr>\n",
       "    <tr>\n",
       "      <th>1</th>\n",
       "      <td>United States</td>\n",
       "      <td>240M</td>\n",
       "      <td>70.59%</td>\n",
       "      <td>2020-12</td>\n",
       "      <td>339,996,563</td>\n",
       "    </tr>\n",
       "    <tr>\n",
       "      <th>2</th>\n",
       "      <td>Indonesia</td>\n",
       "      <td>176.5M</td>\n",
       "      <td>63.6%</td>\n",
       "      <td>2021-06</td>\n",
       "      <td>277,534,122</td>\n",
       "    </tr>\n",
       "    <tr>\n",
       "      <th>3</th>\n",
       "      <td>Brazil</td>\n",
       "      <td>139M</td>\n",
       "      <td>64.23%</td>\n",
       "      <td>2020-12</td>\n",
       "      <td>216,422,446</td>\n",
       "    </tr>\n",
       "    <tr>\n",
       "      <th>4</th>\n",
       "      <td>Philippines</td>\n",
       "      <td>91M</td>\n",
       "      <td>77.55%</td>\n",
       "      <td>2021-06</td>\n",
       "      <td>117,337,368</td>\n",
       "    </tr>\n",
       "  </tbody>\n",
       "</table>\n",
       "</div>"
      ],
      "text/plain": [
       "            Name   Users Facebook_Users% Date_of_Data     Population\n",
       "0          India  416.6M          29.16%      2021-06  1,428,627,663\n",
       "1  United States    240M          70.59%      2020-12    339,996,563\n",
       "2      Indonesia  176.5M           63.6%      2021-06    277,534,122\n",
       "3         Brazil    139M          64.23%      2020-12    216,422,446\n",
       "4    Philippines     91M          77.55%      2021-06    117,337,368"
      ]
     },
     "execution_count": 3,
     "metadata": {},
     "output_type": "execute_result"
    }
   ],
   "source": [
    "df.head()"
   ]
  },
  {
   "cell_type": "code",
   "execution_count": 4,
   "id": "463ca195",
   "metadata": {
    "execution": {
     "iopub.execute_input": "2023-04-06T10:59:01.025310Z",
     "iopub.status.busy": "2023-04-06T10:59:01.024177Z",
     "iopub.status.idle": "2023-04-06T10:59:01.032120Z",
     "shell.execute_reply": "2023-04-06T10:59:01.030970Z"
    },
    "papermill": {
     "duration": 0.017519,
     "end_time": "2023-04-06T10:59:01.034441",
     "exception": false,
     "start_time": "2023-04-06T10:59:01.016922",
     "status": "completed"
    },
    "tags": []
   },
   "outputs": [
    {
     "data": {
      "text/plain": [
       "(226, 5)"
      ]
     },
     "execution_count": 4,
     "metadata": {},
     "output_type": "execute_result"
    }
   ],
   "source": [
    "df.shape"
   ]
  },
  {
   "cell_type": "code",
   "execution_count": 5,
   "id": "e8c005dc",
   "metadata": {
    "execution": {
     "iopub.execute_input": "2023-04-06T10:59:01.048322Z",
     "iopub.status.busy": "2023-04-06T10:59:01.047920Z",
     "iopub.status.idle": "2023-04-06T10:59:01.057253Z",
     "shell.execute_reply": "2023-04-06T10:59:01.056080Z"
    },
    "papermill": {
     "duration": 0.019498,
     "end_time": "2023-04-06T10:59:01.059829",
     "exception": false,
     "start_time": "2023-04-06T10:59:01.040331",
     "status": "completed"
    },
    "tags": []
   },
   "outputs": [
    {
     "data": {
      "text/plain": [
       "Name               0\n",
       "Users              0\n",
       "Facebook_Users%    0\n",
       "Date_of_Data       0\n",
       "Population         0\n",
       "dtype: int64"
      ]
     },
     "execution_count": 5,
     "metadata": {},
     "output_type": "execute_result"
    }
   ],
   "source": [
    "df.isnull().sum()"
   ]
  },
  {
   "cell_type": "code",
   "execution_count": 6,
   "id": "3249978d",
   "metadata": {
    "execution": {
     "iopub.execute_input": "2023-04-06T10:59:01.074115Z",
     "iopub.status.busy": "2023-04-06T10:59:01.073430Z",
     "iopub.status.idle": "2023-04-06T10:59:01.082226Z",
     "shell.execute_reply": "2023-04-06T10:59:01.081028Z"
    },
    "papermill": {
     "duration": 0.018629,
     "end_time": "2023-04-06T10:59:01.084685",
     "exception": false,
     "start_time": "2023-04-06T10:59:01.066056",
     "status": "completed"
    },
    "tags": []
   },
   "outputs": [
    {
     "data": {
      "text/plain": [
       "Name               object\n",
       "Users              object\n",
       "Facebook_Users%    object\n",
       "Date_of_Data       object\n",
       "Population         object\n",
       "dtype: object"
      ]
     },
     "execution_count": 6,
     "metadata": {},
     "output_type": "execute_result"
    }
   ],
   "source": [
    "df.dtypes"
   ]
  },
  {
   "cell_type": "code",
   "execution_count": 7,
   "id": "4a745dcf",
   "metadata": {
    "execution": {
     "iopub.execute_input": "2023-04-06T10:59:01.099487Z",
     "iopub.status.busy": "2023-04-06T10:59:01.099076Z",
     "iopub.status.idle": "2023-04-06T10:59:01.109084Z",
     "shell.execute_reply": "2023-04-06T10:59:01.107726Z"
    },
    "papermill": {
     "duration": 0.020498,
     "end_time": "2023-04-06T10:59:01.111607",
     "exception": false,
     "start_time": "2023-04-06T10:59:01.091109",
     "status": "completed"
    },
    "tags": []
   },
   "outputs": [],
   "source": [
    "# Population dtype need to be changed\n",
    "df['Population'] = df['Population'].str.replace(',','')\n",
    "df['Population'] = df['Population'].astype('float64')"
   ]
  },
  {
   "cell_type": "code",
   "execution_count": 8,
   "id": "0c8b0ca8",
   "metadata": {
    "execution": {
     "iopub.execute_input": "2023-04-06T10:59:01.127247Z",
     "iopub.status.busy": "2023-04-06T10:59:01.126801Z",
     "iopub.status.idle": "2023-04-06T10:59:01.139170Z",
     "shell.execute_reply": "2023-04-06T10:59:01.137947Z"
    },
    "papermill": {
     "duration": 0.023369,
     "end_time": "2023-04-06T10:59:01.141667",
     "exception": false,
     "start_time": "2023-04-06T10:59:01.118298",
     "status": "completed"
    },
    "tags": []
   },
   "outputs": [],
   "source": [
    "# Changing Users count to numeric\n",
    "def convert_to_numeric(value):\n",
    "    if 'M' in value:\n",
    "        N_value=value.replace(\"M\",\"\")\n",
    "        N_value = pd.to_numeric(N_value)\n",
    "        return float(N_value*1000000)\n",
    "    elif 'K' in value:\n",
    "        N_value=value.replace(\"K\",\"\")\n",
    "        N_value = pd.to_numeric(N_value)\n",
    "        return float(N_value*1000)\n",
    "    else:\n",
    "        return float(value)\n",
    "    \n",
    "df['Users'] = df['Users'].apply(lambda x: convert_to_numeric(x))    "
   ]
  },
  {
   "cell_type": "code",
   "execution_count": 9,
   "id": "e78e19cd",
   "metadata": {
    "execution": {
     "iopub.execute_input": "2023-04-06T10:59:01.156266Z",
     "iopub.status.busy": "2023-04-06T10:59:01.155830Z",
     "iopub.status.idle": "2023-04-06T10:59:01.162947Z",
     "shell.execute_reply": "2023-04-06T10:59:01.161740Z"
    },
    "papermill": {
     "duration": 0.017298,
     "end_time": "2023-04-06T10:59:01.165397",
     "exception": false,
     "start_time": "2023-04-06T10:59:01.148099",
     "status": "completed"
    },
    "tags": []
   },
   "outputs": [],
   "source": [
    "# Changing user percentage to numeric\n",
    "df['Facebook_Users%'] = df['Facebook_Users%'].str.replace('%','')\n",
    "df['Facebook_Users%'] = df['Facebook_Users%'].astype('float').round(2)"
   ]
  },
  {
   "cell_type": "code",
   "execution_count": 10,
   "id": "df41da6f",
   "metadata": {
    "execution": {
     "iopub.execute_input": "2023-04-06T10:59:01.179771Z",
     "iopub.status.busy": "2023-04-06T10:59:01.179388Z",
     "iopub.status.idle": "2023-04-06T10:59:01.188055Z",
     "shell.execute_reply": "2023-04-06T10:59:01.186922Z"
    },
    "papermill": {
     "duration": 0.018997,
     "end_time": "2023-04-06T10:59:01.190676",
     "exception": false,
     "start_time": "2023-04-06T10:59:01.171679",
     "status": "completed"
    },
    "tags": []
   },
   "outputs": [
    {
     "data": {
      "text/plain": [
       "0    416600000.0\n",
       "1    240000000.0\n",
       "2    176500000.0\n",
       "3    139000000.0\n",
       "4     91000000.0\n",
       "Name: Users, dtype: float64"
      ]
     },
     "execution_count": 10,
     "metadata": {},
     "output_type": "execute_result"
    }
   ],
   "source": [
    "df[\"Users\"].head()"
   ]
  },
  {
   "cell_type": "code",
   "execution_count": 11,
   "id": "b056c966",
   "metadata": {
    "execution": {
     "iopub.execute_input": "2023-04-06T10:59:01.205393Z",
     "iopub.status.busy": "2023-04-06T10:59:01.204999Z",
     "iopub.status.idle": "2023-04-06T10:59:01.215286Z",
     "shell.execute_reply": "2023-04-06T10:59:01.214241Z"
    },
    "papermill": {
     "duration": 0.020582,
     "end_time": "2023-04-06T10:59:01.217570",
     "exception": false,
     "start_time": "2023-04-06T10:59:01.196988",
     "status": "completed"
    },
    "tags": []
   },
   "outputs": [
    {
     "data": {
      "text/plain": [
       "226"
      ]
     },
     "execution_count": 11,
     "metadata": {},
     "output_type": "execute_result"
    }
   ],
   "source": [
    "df[\"Name\"].nunique()"
   ]
  },
  {
   "cell_type": "code",
   "execution_count": 12,
   "id": "0962630d",
   "metadata": {
    "execution": {
     "iopub.execute_input": "2023-04-06T10:59:01.233228Z",
     "iopub.status.busy": "2023-04-06T10:59:01.232816Z",
     "iopub.status.idle": "2023-04-06T10:59:01.239758Z",
     "shell.execute_reply": "2023-04-06T10:59:01.238731Z"
    },
    "papermill": {
     "duration": 0.017281,
     "end_time": "2023-04-06T10:59:01.242449",
     "exception": false,
     "start_time": "2023-04-06T10:59:01.225168",
     "status": "completed"
    },
    "tags": []
   },
   "outputs": [
    {
     "data": {
      "text/plain": [
       "(226,)"
      ]
     },
     "execution_count": 12,
     "metadata": {},
     "output_type": "execute_result"
    }
   ],
   "source": [
    "df[\"Name\"].unique().shape"
   ]
  },
  {
   "cell_type": "code",
   "execution_count": 13,
   "id": "58d1d950",
   "metadata": {
    "execution": {
     "iopub.execute_input": "2023-04-06T10:59:01.257131Z",
     "iopub.status.busy": "2023-04-06T10:59:01.256738Z",
     "iopub.status.idle": "2023-04-06T10:59:01.266670Z",
     "shell.execute_reply": "2023-04-06T10:59:01.265809Z"
    },
    "papermill": {
     "duration": 0.020366,
     "end_time": "2023-04-06T10:59:01.269198",
     "exception": false,
     "start_time": "2023-04-06T10:59:01.248832",
     "status": "completed"
    },
    "tags": []
   },
   "outputs": [],
   "source": [
    "# Top Country by Facebook_User%\n",
    "top_users_per = df.nlargest(10,'Facebook_Users%')\n"
   ]
  },
  {
   "cell_type": "code",
   "execution_count": 14,
   "id": "45a5b191",
   "metadata": {
    "execution": {
     "iopub.execute_input": "2023-04-06T10:59:01.283938Z",
     "iopub.status.busy": "2023-04-06T10:59:01.283493Z",
     "iopub.status.idle": "2023-04-06T10:59:01.299999Z",
     "shell.execute_reply": "2023-04-06T10:59:01.299104Z"
    },
    "papermill": {
     "duration": 0.026861,
     "end_time": "2023-04-06T10:59:01.302502",
     "exception": false,
     "start_time": "2023-04-06T10:59:01.275641",
     "status": "completed"
    },
    "tags": []
   },
   "outputs": [
    {
     "data": {
      "text/html": [
       "<div>\n",
       "<style scoped>\n",
       "    .dataframe tbody tr th:only-of-type {\n",
       "        vertical-align: middle;\n",
       "    }\n",
       "\n",
       "    .dataframe tbody tr th {\n",
       "        vertical-align: top;\n",
       "    }\n",
       "\n",
       "    .dataframe thead th {\n",
       "        text-align: right;\n",
       "    }\n",
       "</style>\n",
       "<table border=\"1\" class=\"dataframe\">\n",
       "  <thead>\n",
       "    <tr style=\"text-align: right;\">\n",
       "      <th></th>\n",
       "      <th>Name</th>\n",
       "      <th>Users</th>\n",
       "      <th>Facebook_Users%</th>\n",
       "      <th>Date_of_Data</th>\n",
       "      <th>Population</th>\n",
       "    </tr>\n",
       "  </thead>\n",
       "  <tbody>\n",
       "    <tr>\n",
       "      <th>224</th>\n",
       "      <td>Vatican City</td>\n",
       "      <td>799.0</td>\n",
       "      <td>154.25</td>\n",
       "      <td>2020-12</td>\n",
       "      <td>518.0</td>\n",
       "    </tr>\n",
       "    <tr>\n",
       "      <th>44</th>\n",
       "      <td>United Arab Emirates</td>\n",
       "      <td>10300000.0</td>\n",
       "      <td>108.40</td>\n",
       "      <td>2021-03</td>\n",
       "      <td>9516871.0</td>\n",
       "    </tr>\n",
       "    <tr>\n",
       "      <th>96</th>\n",
       "      <td>Qatar</td>\n",
       "      <td>2900000.0</td>\n",
       "      <td>108.05</td>\n",
       "      <td>2021-03</td>\n",
       "      <td>2716391.0</td>\n",
       "    </tr>\n",
       "    <tr>\n",
       "      <th>146</th>\n",
       "      <td>Brunei</td>\n",
       "      <td>461600.0</td>\n",
       "      <td>102.01</td>\n",
       "      <td>2021-06</td>\n",
       "      <td>452524.0</td>\n",
       "    </tr>\n",
       "    <tr>\n",
       "      <th>116</th>\n",
       "      <td>Bahrain</td>\n",
       "      <td>1500000.0</td>\n",
       "      <td>100.70</td>\n",
       "      <td>2021-03</td>\n",
       "      <td>1485509.0</td>\n",
       "    </tr>\n",
       "    <tr>\n",
       "      <th>72</th>\n",
       "      <td>Kuwait</td>\n",
       "      <td>4200000.0</td>\n",
       "      <td>98.07</td>\n",
       "      <td>2021-03</td>\n",
       "      <td>4310108.0</td>\n",
       "    </tr>\n",
       "    <tr>\n",
       "      <th>170</th>\n",
       "      <td>Guam</td>\n",
       "      <td>149500.0</td>\n",
       "      <td>86.44</td>\n",
       "      <td>2020-12</td>\n",
       "      <td>172952.0</td>\n",
       "    </tr>\n",
       "    <tr>\n",
       "      <th>90</th>\n",
       "      <td>Georgia</td>\n",
       "      <td>3200000.0</td>\n",
       "      <td>86.42</td>\n",
       "      <td>2021-06</td>\n",
       "      <td>3728282.0</td>\n",
       "    </tr>\n",
       "    <tr>\n",
       "      <th>30</th>\n",
       "      <td>Taiwan</td>\n",
       "      <td>20600000.0</td>\n",
       "      <td>86.15</td>\n",
       "      <td>2021-06</td>\n",
       "      <td>23923276.0</td>\n",
       "    </tr>\n",
       "    <tr>\n",
       "      <th>181</th>\n",
       "      <td>Aruba</td>\n",
       "      <td>91000.0</td>\n",
       "      <td>85.63</td>\n",
       "      <td>2020-12</td>\n",
       "      <td>106277.0</td>\n",
       "    </tr>\n",
       "  </tbody>\n",
       "</table>\n",
       "</div>"
      ],
      "text/plain": [
       "                     Name       Users  Facebook_Users% Date_of_Data  \\\n",
       "224          Vatican City       799.0           154.25      2020-12   \n",
       "44   United Arab Emirates  10300000.0           108.40      2021-03   \n",
       "96                  Qatar   2900000.0           108.05      2021-03   \n",
       "146                Brunei    461600.0           102.01      2021-06   \n",
       "116               Bahrain   1500000.0           100.70      2021-03   \n",
       "72                 Kuwait   4200000.0            98.07      2021-03   \n",
       "170                  Guam    149500.0            86.44      2020-12   \n",
       "90                Georgia   3200000.0            86.42      2021-06   \n",
       "30                 Taiwan  20600000.0            86.15      2021-06   \n",
       "181                 Aruba     91000.0            85.63      2020-12   \n",
       "\n",
       "     Population  \n",
       "224       518.0  \n",
       "44    9516871.0  \n",
       "96    2716391.0  \n",
       "146    452524.0  \n",
       "116   1485509.0  \n",
       "72    4310108.0  \n",
       "170    172952.0  \n",
       "90    3728282.0  \n",
       "30   23923276.0  \n",
       "181    106277.0  "
      ]
     },
     "execution_count": 14,
     "metadata": {},
     "output_type": "execute_result"
    }
   ],
   "source": [
    "top_users_per"
   ]
  },
  {
   "cell_type": "code",
   "execution_count": 15,
   "id": "2cc59e57",
   "metadata": {
    "execution": {
     "iopub.execute_input": "2023-04-06T10:59:01.317959Z",
     "iopub.status.busy": "2023-04-06T10:59:01.317528Z",
     "iopub.status.idle": "2023-04-06T10:59:02.804986Z",
     "shell.execute_reply": "2023-04-06T10:59:02.803733Z"
    },
    "papermill": {
     "duration": 1.498443,
     "end_time": "2023-04-06T10:59:02.807763",
     "exception": false,
     "start_time": "2023-04-06T10:59:01.309320",
     "status": "completed"
    },
    "tags": []
   },
   "outputs": [
    {
     "data": {
      "text/plain": [
       "<AxesSubplot:xlabel='Name'>"
      ]
     },
     "execution_count": 15,
     "metadata": {},
     "output_type": "execute_result"
    },
    {
     "data": {
      "image/png": "[encoded data removed]",
      "text/plain": [
       "<Figure size 640x480 with 1 Axes>"
      ]
     },
     "metadata": {},
     "output_type": "display_data"
    }
   ],
   "source": [
    "# Ploting top 10\n",
    "import matplotlib.pyplot as plt\n",
    "import seaborn as sns\n",
    "top_users_per1=top_users_per.set_index(\"Name\")\n",
    "top_users_per1[\"Facebook_Users%\"].plot(kind=\"bar\")"
   ]
  },
  {
   "cell_type": "code",
   "execution_count": 16,
   "id": "2ca26588",
   "metadata": {
    "execution": {
     "iopub.execute_input": "2023-04-06T10:59:02.824384Z",
     "iopub.status.busy": "2023-04-06T10:59:02.823963Z",
     "iopub.status.idle": "2023-04-06T10:59:03.143245Z",
     "shell.execute_reply": "2023-04-06T10:59:03.142126Z"
    },
    "papermill": {
     "duration": 0.331041,
     "end_time": "2023-04-06T10:59:03.146247",
     "exception": false,
     "start_time": "2023-04-06T10:59:02.815206",
     "status": "completed"
    },
    "tags": []
   },
   "outputs": [
    {
     "data": {
      "text/plain": [
       "<AxesSubplot:xlabel='Name'>"
      ]
     },
     "execution_count": 16,
     "metadata": {},
     "output_type": "execute_result"
    },
    {
     "data": {
      "image/png": "[encoded data removed]",
      "text/plain": [
       "<Figure size 640x480 with 1 Axes>"
      ]
     },
     "metadata": {},
     "output_type": "display_data"
    }
   ],
   "source": [
    "# Population by Users of TOP 10(Facebook_Users%)\n",
    "top_users_per.plot(y=['Population','Users'], x= 'Name', kind = 'bar')"
   ]
  },
  {
   "cell_type": "code",
   "execution_count": 17,
   "id": "a5864c38",
   "metadata": {
    "execution": {
     "iopub.execute_input": "2023-04-06T10:59:03.164479Z",
     "iopub.status.busy": "2023-04-06T10:59:03.163695Z",
     "iopub.status.idle": "2023-04-06T10:59:03.171655Z",
     "shell.execute_reply": "2023-04-06T10:59:03.170504Z"
    },
    "papermill": {
     "duration": 0.019536,
     "end_time": "2023-04-06T10:59:03.174032",
     "exception": false,
     "start_time": "2023-04-06T10:59:03.154496",
     "status": "completed"
    },
    "tags": []
   },
   "outputs": [],
   "source": [
    "top_users = df.nlargest(10,'Users')\n",
    "top_users1=top_users.set_index(\"Name\")"
   ]
  },
  {
   "cell_type": "code",
   "execution_count": 18,
   "id": "303a65a2",
   "metadata": {
    "execution": {
     "iopub.execute_input": "2023-04-06T10:59:03.191597Z",
     "iopub.status.busy": "2023-04-06T10:59:03.191184Z",
     "iopub.status.idle": "2023-04-06T10:59:03.390659Z",
     "shell.execute_reply": "2023-04-06T10:59:03.388844Z"
    },
    "papermill": {
     "duration": 0.213929,
     "end_time": "2023-04-06T10:59:03.395786",
     "exception": false,
     "start_time": "2023-04-06T10:59:03.181857",
     "status": "completed"
    },
    "tags": []
   },
   "outputs": [
    {
     "data": {
      "text/plain": [
       "<AxesSubplot:ylabel='Users'>"
      ]
     },
     "execution_count": 18,
     "metadata": {},
     "output_type": "execute_result"
    },
    {
     "data": {
      "image/png": "[encoded data removed]",
      "text/plain": [
       "<Figure size 640x480 with 1 Axes>"
      ]
     },
     "metadata": {},
     "output_type": "display_data"
    }
   ],
   "source": [
    "# Users Partition of TOP 10(Users)\n",
    "top_users1[\"Users\"].plot(kind=\"pie\")\n"
   ]
  },
  {
   "cell_type": "code",
   "execution_count": 19,
   "id": "5f9c7ae1",
   "metadata": {
    "execution": {
     "iopub.execute_input": "2023-04-06T10:59:03.435136Z",
     "iopub.status.busy": "2023-04-06T10:59:03.434749Z",
     "iopub.status.idle": "2023-04-06T10:59:03.763331Z",
     "shell.execute_reply": "2023-04-06T10:59:03.761977Z"
    },
    "papermill": {
     "duration": 0.348627,
     "end_time": "2023-04-06T10:59:03.766213",
     "exception": false,
     "start_time": "2023-04-06T10:59:03.417586",
     "status": "completed"
    },
    "tags": []
   },
   "outputs": [
    {
     "data": {
      "text/plain": [
       "<AxesSubplot:xlabel='Name'>"
      ]
     },
     "execution_count": 19,
     "metadata": {},
     "output_type": "execute_result"
    },
    {
     "data": {
      "image/png": "[encoded data removed]",
      "text/plain": [
       "<Figure size 640x480 with 1 Axes>"
      ]
     },
     "metadata": {},
     "output_type": "display_data"
    }
   ],
   "source": [
    "# Population by Users of TOP 10(Users)\n",
    "top_users.plot(y=['Population','Users'], x= 'Name', kind = 'bar')"
   ]
  },
  {
   "cell_type": "markdown",
   "id": "ab3057bf",
   "metadata": {
    "papermill": {
     "duration": 0.008939,
     "end_time": "2023-04-06T10:59:03.784557",
     "exception": false,
     "start_time": "2023-04-06T10:59:03.775618",
     "status": "completed"
    },
    "tags": []
   },
   "source": [
    "# UPVOTE IF YOU FIND IT USEFUL"
   ]
  },
  {
   "cell_type": "code",
   "execution_count": null,
   "id": "4d46000f",
   "metadata": {
    "papermill": {
     "duration": 0.009399,
     "end_time": "2023-04-06T10:59:03.803357",
     "exception": false,
     "start_time": "2023-04-06T10:59:03.793958",
     "status": "completed"
    },
    "tags": []
   },
   "outputs": [],
   "source": []
  },
  {
   "cell_type": "code",
   "execution_count": null,
   "id": "a467d8d7",
   "metadata": {
    "papermill": {
     "duration": 0.009427,
     "end_time": "2023-04-06T10:59:03.822012",
     "exception": false,
     "start_time": "2023-04-06T10:59:03.812585",
     "status": "completed"
    },
    "tags": []
   },
   "outputs": [],
   "source": []
  }
 ],
 "metadata": {
  "kernelspec": {
   "display_name": "Python 3",
   "language": "python",
   "name": "python3"
  },
  "language_info": {
   "codemirror_mode": {
    "name": "ipython",
    "version": 3
   },
   "file_extension": ".py",
   "mimetype": "text/x-python",
   "name": "python",
   "nbconvert_exporter": "python",
   "pygments_lexer": "ipython3",
   "version": "3.7.12"
  },
  "papermill": {
   "default_parameters": {},
   "duration": 13.669323,
   "end_time": "2023-04-06T10:59:04.553284",
   "environment_variables": {},
   "exception": null,
   "input_path": "__notebook__.ipynb",
   "output_path": "__notebook__.ipynb",
   "parameters": {},
   "start_time": "2023-04-06T10:58:50.883961",
   "version": "2.4.0"
  }
 },
 "nbformat": 4,
 "nbformat_minor": 5
}
